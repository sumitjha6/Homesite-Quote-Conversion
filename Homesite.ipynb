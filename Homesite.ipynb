{
 "cells": [
  {
   "cell_type": "code",
   "execution_count": 1,
   "metadata": {
    "id": "md5Ek9GT13Yb"
   },
   "outputs": [],
   "source": [
    "from vecstack import stacking\n",
    "import pandas as pd\n",
    "import numpy as np\n",
    "from sklearn.metrics import accuracy_score #works\n",
    "from sklearn.model_selection import train_test_split\n",
    "from sklearn.ensemble import RandomForestClassifier\n",
    "from sklearn.tree import DecisionTreeClassifier\n",
    "from sklearn.model_selection import GridSearchCV\n",
    "from sklearn.model_selection import RandomizedSearchCV\n",
    "from sklearn.model_selection import cross_val_score\n",
    "from sklearn.metrics import classification_report, confusion_matrix\n",
    "from sklearn.ensemble import GradientBoostingClassifier\n",
    "from sklearn.neural_network import MLPClassifier\n",
    "from sklearn.model_selection import train_test_split\n",
    "#from sklearn.ensemble import RandomForestClassifier\n",
    "from imblearn.over_sampling import SMOTE \n",
    "from sklearn.svm import SVC\n",
    "from collections import Counter #for Smote, \n",
    "from sklearn.neighbors import KNeighborsClassifier\n",
    "from sklearn.neural_network import MLPClassifier\n",
    "from sklearn.svm import LinearSVC \n",
    "\n",
    "import warnings\n",
    "warnings.filterwarnings(\"ignore\")\n"
   ]
  },
  {
   "cell_type": "code",
   "execution_count": 2,
   "metadata": {
    "colab": {
     "base_uri": "https://localhost:8080/"
    },
    "id": "0bQ9eJR819Cp",
    "outputId": "62037d3f-8d56-4bf1-f317-41dd4ccc60c2"
   },
   "outputs": [
    {
     "name": "stdout",
     "output_type": "stream",
     "text": [
      "(65000, 596)\n",
      "(173836, 596)\n",
      "   CoverageField11A  CoverageField11B  CoverageField1A  CoverageField1B  \\\n",
      "0                 2                 1               17               23   \n",
      "1                 5                 9                6                8   \n",
      "2                 4                 6                7               12   \n",
      "3                15                23                3                2   \n",
      "4                 4                 6                8               13   \n",
      "\n",
      "   CoverageField2A  CoverageField2B  CoverageField3A  CoverageField3B  \\\n",
      "0               17               23               15               22   \n",
      "1                6                8                5                7   \n",
      "2                7               12                6               10   \n",
      "3                3                2                2                2   \n",
      "4                8               13                7               11   \n",
      "\n",
      "   CoverageField4A  CoverageField4B  ...  PropertyField38_N  \\\n",
      "0               16               22  ...                  1   \n",
      "1                5                8  ...                  1   \n",
      "2                7               11  ...                  1   \n",
      "3                3                2  ...                  1   \n",
      "4                7               13  ...                  1   \n",
      "\n",
      "   PropertyField38_Y  GeographicField63_   GeographicField63_N  \\\n",
      "0                  0                    0                    1   \n",
      "1                  0                    0                    1   \n",
      "2                  0                    0                    1   \n",
      "3                  0                    0                    1   \n",
      "4                  0                    0                    1   \n",
      "\n",
      "   GeographicField63_Y  GeographicField64_CA  GeographicField64_IL  \\\n",
      "0                    0                     1                     0   \n",
      "1                    0                     0                     0   \n",
      "2                    0                     0                     0   \n",
      "3                    0                     0                     0   \n",
      "4                    0                     0                     1   \n",
      "\n",
      "   GeographicField64_NJ  GeographicField64_TX  QuoteConversion_Flag  \n",
      "0                     0                     0                     0  \n",
      "1                     1                     0                     0  \n",
      "2                     1                     0                     0  \n",
      "3                     0                     1                     0  \n",
      "4                     0                     0                     0  \n",
      "\n",
      "[5 rows x 596 columns]\n",
      "   CoverageField11A  CoverageField11B  CoverageField1A  CoverageField1B  \\\n",
      "0                13                22                4                4   \n",
      "1                 4                 5                8               14   \n",
      "2                 3                 3               11               18   \n",
      "3                 5                 9               14               22   \n",
      "4                12                21                4                5   \n",
      "\n",
      "   CoverageField2A  CoverageField2B  CoverageField3A  CoverageField3B  \\\n",
      "0                4                4                3                3   \n",
      "1                8               14                7               12   \n",
      "2               11               18               10               16   \n",
      "3               15               22               13               20   \n",
      "4                4                5                4                4   \n",
      "\n",
      "   CoverageField4A  CoverageField4B  ...  PropertyField38_N  \\\n",
      "0                3                4  ...                  1   \n",
      "1                8               13  ...                  1   \n",
      "2               10               18  ...                  1   \n",
      "3               22               25  ...                  1   \n",
      "4                4                5  ...                  1   \n",
      "\n",
      "   PropertyField38_Y  GeographicField63_   GeographicField63_N  \\\n",
      "0                  0                    0                    0   \n",
      "1                  0                    0                    1   \n",
      "2                  0                    0                    1   \n",
      "3                  0                    0                    1   \n",
      "4                  0                    0                    1   \n",
      "\n",
      "   GeographicField63_Y  GeographicField64_CA  GeographicField64_IL  \\\n",
      "0                    1                     0                     0   \n",
      "1                    0                     0                     0   \n",
      "2                    0                     0                     0   \n",
      "3                    0                     0                     0   \n",
      "4                    0                     0                     0   \n",
      "\n",
      "   GeographicField64_NJ  GeographicField64_TX  GeographicField64  \n",
      "0                     0                     0                 IL  \n",
      "1                     0                     0                 NJ  \n",
      "2                     0                     0                 NJ  \n",
      "3                     0                     0                 TX  \n",
      "4                     0                     0                 CA  \n",
      "\n",
      "[5 rows x 596 columns]\n"
     ]
    }
   ],
   "source": [
    "# Read Test and Train file\n",
    "trainfile = r'RevisedHomesiteTrain1.csv'\n",
    "train_data = pd.read_csv(trainfile)\n",
    "\n",
    "testfile = r'RevisedHomesiteTest1.csv'\n",
    "test_data = pd.read_csv(testfile)\n",
    "\n",
    "print(train_data.shape)\n",
    "print(test_data.shape)\n",
    "print(train_data.head())  \n",
    "print(test_data.head())\n"
   ]
  },
  {
   "cell_type": "code",
   "execution_count": 3,
   "metadata": {
    "colab": {
     "base_uri": "https://localhost:8080/"
    },
    "id": "ZArBnwvC2a9V",
    "outputId": "b8a4ba31-4552-4b54-d7db-faaca6c53c23"
   },
   "outputs": [],
   "source": [
    "#Separate Target data column\n",
    "\n",
    "X_Train = train_data\n",
    "\n",
    "Y_Train=X_Train[\"QuoteConversion_Flag\"]\n",
    "\n",
    "X_Train1=X_Train.iloc[:, :-1].copy()\n",
    "\n",
    "# Split train data set\n",
    "\n",
    "X_train1, X_test1, y_train, y_test = train_test_split(X_Train1, Y_Train, test_size = .25, \n",
    "                                                    stratify=Y_Train,random_state = 1)\n"
   ]
  },
  {
   "cell_type": "code",
   "execution_count": 31,
   "metadata": {
    "colab": {
     "base_uri": "https://localhost:8080/"
    },
    "id": "V234VI_b9yIR",
    "outputId": "0ff74c35-ae8b-4a05-feb1-294a8827fde2"
   },
   "outputs": [
    {
     "name": "stdout",
     "output_type": "stream",
     "text": [
      "accuracy Score (training) for Decision Tree:0.882646\n",
      "Confusion Matrix for Decision Tree\n",
      "[[12181  1003]\n",
      " [  904  2162]]\n"
     ]
    }
   ],
   "source": [
    "#CONSTRUCT DEFAULT DECISION TREE AND OBTAIN RESPECTIVE ACCURACY \n",
    "\n",
    "clf = DecisionTreeClassifier()\n",
    "clf.fit(X_train1,y_train)\n",
    "clf_predict=clf.predict(X_test1)\n",
    "print(\"accuracy Score (training) for Decision Tree:{0:6f}\".format(clf.score(X_test1,y_test)))\n",
    "print(\"Confusion Matrix for Decision Tree\")\n",
    "print(confusion_matrix(y_test,clf_predict))\n"
   ]
  },
  {
   "cell_type": "code",
   "execution_count": 32,
   "metadata": {
    "colab": {
     "base_uri": "https://localhost:8080/"
    },
    "id": "hxXQAWLD2pqy",
    "outputId": "98b67486-13f2-40f4-a232-f2f4e5eac3f2"
   },
   "outputs": [
    {
     "name": "stdout",
     "output_type": "stream",
     "text": [
      "{'min_samples_split': 70, 'max_depth': 11}\n",
      "accuracy Score (testing) after hypertuning for Decision Tree:0.914031\n",
      "Confusion Matrix after hypertuning for Decision Tree\n",
      "[[12881   303]\n",
      " [ 1094  1972]]\n",
      "=== Classification Report ===\n",
      "              precision    recall  f1-score   support\n",
      "\n",
      "           0       0.92      0.98      0.95     13184\n",
      "           1       0.87      0.64      0.74      3066\n",
      "\n",
      "    accuracy                           0.91     16250\n",
      "   macro avg       0.89      0.81      0.84     16250\n",
      "weighted avg       0.91      0.91      0.91     16250\n",
      "\n",
      "=== All AUC Scores ===\n",
      "[0.94898357 0.94454052 0.9327887  0.94344179 0.94190265 0.94308374\n",
      " 0.94279077 0.94108654 0.93954076 0.93917839]\n",
      "\n",
      "\n",
      "=== Mean AUC Score ===\n",
      "Mean AUC Score - Decision Tree:  0.9417337430569882\n"
     ]
    }
   ],
   "source": [
    "#Hyperparameter tuning done for decision tree classifier\n",
    "parameters={'min_samples_split' : range(10,100,10),'max_depth': range(1,20,5)}\n",
    "clf_random = RandomizedSearchCV(clf,parameters,n_iter=15)\n",
    "clf_random.fit(X_train1, y_train)\n",
    "grid_parm=clf_random.best_params_\n",
    "print(grid_parm)\n",
    "\n",
    "#Using the parameters obtained from HyperParameterTuning in the DecisionTreeClassifier \n",
    "clf = DecisionTreeClassifier(**grid_parm)\n",
    "clf.fit(X_train1,y_train)\n",
    "clf_predict = clf.predict(X_test1)\n",
    "\n",
    "#Obtain accuracy ,confusion matrix,classification report and AUC values for the result above.\n",
    "print(\"accuracy Score (testing) after hypertuning for Decision Tree:{0:6f}\".format(clf.score(X_test1,y_test)))\n",
    "print(\"Confusion Matrix after hypertuning for Decision Tree\")\n",
    "print(confusion_matrix(y_test,clf_predict))\n",
    "print(\"=== Classification Report ===\")\n",
    "print(classification_report(y_test,clf_predict))\n",
    "\n",
    "#get cross-validation report\n",
    "clf_cv_score = cross_val_score(clf, X_train1, y_train, cv=10, scoring=\"roc_auc\")\n",
    "print(\"=== All AUC Scores ===\")\n",
    "print(clf_cv_score)\n",
    "print('\\n')\n",
    "print(\"=== Mean AUC Score ===\")\n",
    "print(\"Mean AUC Score - Decision Tree: \",clf_cv_score.mean())\n"
   ]
  },
  {
   "cell_type": "code",
   "execution_count": 8,
   "metadata": {},
   "outputs": [],
   "source": [
    "# Process test data without geographical field column\n",
    "X_TEST1= test_data.drop([\"GeographicField64\"], axis=1)"
   ]
  },
  {
   "cell_type": "code",
   "execution_count": 9,
   "metadata": {},
   "outputs": [],
   "source": [
    "#prediction on test file based on decision tree classifier\n",
    "clf_predict1 = clf.predict(X_TEST1)"
   ]
  },
  {
   "cell_type": "code",
   "execution_count": 10,
   "metadata": {},
   "outputs": [],
   "source": [
    "# Generate CSV for kaggle Score \n",
    "X1 = pd.DataFrame({'QuoteNumber':X_TEST1.QuoteNumber,'QuoteConversionFlag':clf_predict1})\n",
    "X1.to_csv('DecisionTree_1.csv')"
   ]
  },
  {
   "cell_type": "code",
   "execution_count": 11,
   "metadata": {
    "colab": {
     "base_uri": "https://localhost:8080/"
    },
    "id": "SzDIdb4W_Aj8",
    "outputId": "d7617c38-80b1-418b-ca3b-569ae3d14be6"
   },
   "outputs": [
    {
     "name": "stdout",
     "output_type": "stream",
     "text": [
      "accuracy Score (training) for RandomForest:0.905785\n",
      "Confusion Matrix for Random Forest:\n",
      "[[12967   217]\n",
      " [ 1314  1752]]\n"
     ]
    }
   ],
   "source": [
    "#Construct Random Forest Model\n",
    "\n",
    "rfc = RandomForestClassifier()\n",
    "rfc.fit(X_train1, y_train)\n",
    "rfc_predict=rfc.predict(X_test1)\n",
    "print(\"accuracy Score (training) for RandomForest:{0:6f}\".format(rfc.score(X_test1,y_test)))\n",
    "print(\"Confusion Matrix for Random Forest:\")\n",
    "print(confusion_matrix(y_test,rfc_predict))"
   ]
  },
  {
   "cell_type": "code",
   "execution_count": 12,
   "metadata": {},
   "outputs": [],
   "source": [
    "#prediction on test file based on random forest classifier\n",
    "rfc_predict1 = rfc.predict(X_TEST1)"
   ]
  },
  {
   "cell_type": "code",
   "execution_count": 13,
   "metadata": {},
   "outputs": [],
   "source": [
    "# Generate CSV for kaggle Score \n",
    "X1 = pd.DataFrame({'QuoteNumber':X_TEST1.QuoteNumber,'QuoteConversionFlag':rfc_predict1})\n",
    "X1.to_csv('Random_Forest1.csv')"
   ]
  },
  {
   "cell_type": "code",
   "execution_count": 14,
   "metadata": {
    "colab": {
     "base_uri": "https://localhost:8080/"
    },
    "id": "Vm2iiPC8S5ij",
    "outputId": "7ee7c86a-cfd2-4471-e257-0a2a43646ace"
   },
   "outputs": [
    {
     "name": "stdout",
     "output_type": "stream",
     "text": [
      "accuracy Score (training) for MultiLayer Perceptron:0.705846\n",
      "Confusion Matrix for MultiLayer Perceptron:\n",
      "[[9212 3972]\n",
      " [ 808 2258]]\n"
     ]
    }
   ],
   "source": [
    "#Construct MultiLayer Perceptron Model\n",
    "from sklearn.neural_network import MLPClassifier\n",
    "\n",
    "mlp = MLPClassifier(max_iter=200)\n",
    "mlp.fit(X_train1, y_train)\n",
    "mlp_predict=mlp.predict(X_test1)\n",
    "print(\"accuracy Score (training) for MultiLayer Perceptron:{0:6f}\".format(mlp.score(X_test1,y_test)))\n",
    "print(\"Confusion Matrix for MultiLayer Perceptron:\")\n",
    "print(confusion_matrix(y_test,mlp_predict))\n"
   ]
  },
  {
   "cell_type": "code",
   "execution_count": 15,
   "metadata": {},
   "outputs": [],
   "source": [
    "#prediction on test file based on Multiplayer Perceptron classifier\n",
    "mlp_predict1 = mlp.predict(X_TEST1)"
   ]
  },
  {
   "cell_type": "code",
   "execution_count": 16,
   "metadata": {},
   "outputs": [],
   "source": [
    "# Generate CSV for kaggle Score \n",
    "X1 = pd.DataFrame({'QuoteNumber':X_TEST1.QuoteNumber,'QuoteConversionFlag':mlp_predict1})\n",
    "X1.to_csv('MLP1.csv')"
   ]
  },
  {
   "cell_type": "code",
   "execution_count": 18,
   "metadata": {
    "colab": {
     "base_uri": "https://localhost:8080/"
    },
    "id": "6FqqjbunCWC_",
    "outputId": "29f0ab47-c5f8-4fbe-b748-40544f3be91b"
   },
   "outputs": [
    {
     "name": "stdout",
     "output_type": "stream",
     "text": [
      "accuracy Score (training) for KNeighborsClassifier:0.763877\n",
      "Confusion Matrix for KNeighborsClassifier:\n",
      "[[12074  1110]\n",
      " [ 2727   339]]\n"
     ]
    }
   ],
   "source": [
    "#Construct K-Nearest Neighbor Model\n",
    "from sklearn.neighbors import KNeighborsClassifier\n",
    "neigh = KNeighborsClassifier(n_neighbors=3)\n",
    "\n",
    "neigh.fit(X_train1, y_train)\n",
    "neigh_predict=neigh.predict(X_test1)\n",
    "print(\"accuracy Score (training) for KNeighborsClassifier:{0:6f}\".format(neigh.score(X_test1,y_test)))\n",
    "print(\"Confusion Matrix for KNeighborsClassifier:\")\n",
    "print(confusion_matrix(y_test,neigh_predict))\n"
   ]
  },
  {
   "cell_type": "code",
   "execution_count": 21,
   "metadata": {},
   "outputs": [],
   "source": [
    "#prediction on test file based on K-Nearest Neighbor Model\n",
    "neigh_predict1 = neigh.predict(X_TEST1)"
   ]
  },
  {
   "cell_type": "code",
   "execution_count": 22,
   "metadata": {},
   "outputs": [],
   "source": [
    "# Generate CSV for kaggle Score \n",
    "X1 = pd.DataFrame({'QuoteNumber':X_TEST1.QuoteNumber,'QuoteConversionFlag':neigh_predict1})\n",
    "X1.to_csv('KNN.csv')"
   ]
  },
  {
   "cell_type": "code",
   "execution_count": 23,
   "metadata": {
    "colab": {
     "base_uri": "https://localhost:8080/"
    },
    "id": "dKIldb73eMRl",
    "outputId": "665d4e9e-66f0-464c-8fce-079c7bb2998c"
   },
   "outputs": [
    {
     "name": "stdout",
     "output_type": "stream",
     "text": [
      "accuracy Score (training) for Linear SVM Classifier:0.810892\n",
      "Confusion Matrix for Linear SVM Classifier:\n",
      "[[13164    20]\n",
      " [ 3053    13]]\n"
     ]
    }
   ],
   "source": [
    "#Construct Linear Support Vector Machine Model\n",
    "from sklearn.svm import LinearSVC \n",
    "linsvm = LinearSVC(max_iter=1000) \n",
    "linsvm.fit(X_train1, y_train) \n",
    "linsvm_predict=linsvm.predict(X_test1) \n",
    "print(\"accuracy Score (training) for Linear SVM Classifier:{0:6f}\".format(linsvm.score(X_test1,y_test))) \n",
    "print(\"Confusion Matrix for Linear SVM Classifier:\") \n",
    "print(confusion_matrix(y_test,linsvm_predict))\n"
   ]
  },
  {
   "cell_type": "code",
   "execution_count": 24,
   "metadata": {},
   "outputs": [],
   "source": [
    "#prediction on test file based on K-Nearest Neighbor Model\n",
    "linsvm_predict1 = linsvm.predict(X_TEST1)"
   ]
  },
  {
   "cell_type": "code",
   "execution_count": 25,
   "metadata": {},
   "outputs": [],
   "source": [
    "# Generate CSV for kaggle Score \n",
    "X1 = pd.DataFrame({'QuoteNumber':X_TEST1.QuoteNumber,'QuoteConversionFlag':linsvm_predict1})\n",
    "X1.to_csv('linsvm.csv')"
   ]
  },
  {
   "cell_type": "code",
   "execution_count": 26,
   "metadata": {
    "colab": {
     "base_uri": "https://localhost:8080/"
    },
    "id": "cuhgy0RcseYE",
    "outputId": "520e9183-7e4e-47c5-896c-6b7369f09da6"
   },
   "outputs": [
    {
     "name": "stdout",
     "output_type": "stream",
     "text": [
      "accuracy Score (training) for Boosting:0.922031\n",
      "Confusion Matrix for boosting:\n",
      "[[13037   147]\n",
      " [ 1120  1946]]\n",
      "{'n_estimators': 20, 'learning_rate': 0.1}\n",
      "accuracy Score (training) after hypertuning for Boosting:0.891631\n",
      "Confusion Matrix after hypertuning for Boosting:\n",
      "[[13171    13]\n",
      " [ 1748  1318]]\n",
      "=== Classification Report ===\n",
      "              precision    recall  f1-score   support\n",
      "\n",
      "           0       0.88      1.00      0.94     13184\n",
      "           1       0.99      0.43      0.60      3066\n",
      "\n",
      "    accuracy                           0.89     16250\n",
      "   macro avg       0.94      0.71      0.77     16250\n",
      "weighted avg       0.90      0.89      0.87     16250\n",
      "\n",
      "=== All AUC Scores ===\n",
      "[0.93871116 0.93683594 0.92861259 0.93582894 0.93439853 0.94255455\n",
      " 0.93600561 0.93878909 0.93413703 0.92518551]\n",
      "\n",
      "\n",
      "=== Mean AUC Score ===\n",
      "Mean AUC Score - Boosting:  0.935105895274582\n"
     ]
    }
   ],
   "source": [
    "#Construct Gradient Boosting model\n",
    "\n",
    "search_grid={'n_estimators':[5,10,20],'learning_rate':[0.01,.1]}\n",
    "abc =GradientBoostingClassifier()\n",
    "abc.fit(X_train1, y_train)\n",
    "abc_predict=abc.predict(X_test1)\n",
    "print(\"accuracy Score (training) for Boosting:{0:6f}\".format(abc.score(X_test1,y_test)))\n",
    "print(\"Confusion Matrix for boosting:\")\n",
    "print(confusion_matrix(y_test,abc_predict))\n",
    "abc_random = RandomizedSearchCV(abc,search_grid,n_iter=15)\n",
    "abc_random.fit(X_train1, y_train)\n",
    "grid_parm_abc=abc_random.best_params_\n",
    "print(grid_parm_abc)\n",
    "abc= GradientBoostingClassifier(**grid_parm_abc)\n",
    "abc.fit(X_train1,y_train)\n",
    "abc_predict = abc.predict(X_test1)\n",
    "print(\"accuracy Score (training) after hypertuning for Boosting:{0:6f}\".format(abc.score(X_test1,y_test)))\n",
    "print(\"Confusion Matrix after hypertuning for Boosting:\")\n",
    "print(confusion_matrix(y_test,abc_predict))\n",
    "print(\"=== Classification Report ===\")\n",
    "print(classification_report(y_test,abc_predict))\n",
    "abc_cv_score = cross_val_score(abc, X_train1, y_train, cv=10, scoring=\"roc_auc\")\n",
    "print(\"=== All AUC Scores ===\")\n",
    "print(abc_cv_score)\n",
    "print('\\n')\n",
    "print(\"=== Mean AUC Score ===\")\n",
    "print(\"Mean AUC Score - Boosting: \",abc_cv_score.mean())"
   ]
  },
  {
   "cell_type": "code",
   "execution_count": 27,
   "metadata": {},
   "outputs": [],
   "source": [
    "#prediction on test file based on K-Nearest Neighbor Model\n",
    "abc_predict1 = abc.predict(X_TEST1)"
   ]
  },
  {
   "cell_type": "code",
   "execution_count": 28,
   "metadata": {},
   "outputs": [],
   "source": [
    "# Generate CSV for kaggle Score \n",
    "X1 = pd.DataFrame({'QuoteNumber':X_TEST1.QuoteNumber,'QuoteConversionFlag':abc_predict1})\n",
    "X1.to_csv('GBM.csv')"
   ]
  },
  {
   "cell_type": "markdown",
   "metadata": {
    "id": "sdhKtuqXQ73r"
   },
   "source": [
    "# ***SMOTE***"
   ]
  },
  {
   "cell_type": "code",
   "execution_count": 5,
   "metadata": {
    "colab": {
     "base_uri": "https://localhost:8080/"
    },
    "id": "XwMoUt2eQ5re",
    "outputId": "401225d8-7c76-4b79-ec3d-be18d14eb3a8"
   },
   "outputs": [
    {
     "name": "stdout",
     "output_type": "stream",
     "text": [
      "___________________________________________________________________\n",
      "SMOTE\n",
      "\n",
      "Original dataset shape Counter({0: 39554, 1: 9196})\n",
      "Resampled dataset shape Counter({0: 39554, 1: 19777})\n"
     ]
    }
   ],
   "source": [
    "print(\"___________________________________________________________________\\nSMOTE\\n\")\n",
    "print('Original dataset shape %s' % Counter(y_train))\n",
    "sm = SMOTE(sampling_strategy=0.5)\n",
    "X_res, y_res = sm.fit_resample(X_train1, y_train)\n",
    "print('Resampled dataset shape %s' % Counter(y_res))"
   ]
  },
  {
   "cell_type": "markdown",
   "metadata": {
    "id": "_XD8njUjRXJv"
   },
   "source": [
    "# ***ENSEMBLE METHODS STACKING***"
   ]
  },
  {
   "cell_type": "code",
   "execution_count": 9,
   "metadata": {
    "colab": {
     "base_uri": "https://localhost:8080/"
    },
    "id": "tS4c_BpQRQ0O",
    "outputId": "9e058046-61ff-49d1-f4d2-b98b51593f34"
   },
   "outputs": [
    {
     "name": "stdout",
     "output_type": "stream",
     "text": [
      "___________________________________________________________________________________________\n",
      "Ensemble Methods Predictions using GradientBoosting, RandomForest and Decision Tree Classifier\n",
      "\n",
      "task:         [classification]\n",
      "n_classes:    [2]\n",
      "metric:       [accuracy_score]\n",
      "mode:         [oof_pred_bag]\n",
      "n_models:     [5]\n",
      "\n",
      "model  0:     [KNeighborsClassifier]\n",
      "    fold  0:  [0.69736399]\n",
      "    fold  1:  [0.69433021]\n",
      "    fold  2:  [0.69783591]\n",
      "    fold  3:  [0.68965750]\n",
      "    ----\n",
      "    MEAN:     [0.69479690] + [0.00325794]\n",
      "    FULL:     [0.69479699]\n",
      "\n",
      "model  1:     [MLPClassifier]\n",
      "    fold  0:  [0.86819929]\n",
      "    fold  1:  [0.83118722]\n",
      "    fold  2:  [0.75372480]\n",
      "    fold  3:  [0.82571467]\n",
      "    ----\n",
      "    MEAN:     [0.81970649] + [0.04145190]\n",
      "    FULL:     [0.81970639]\n",
      "\n",
      "model  2:     [LinearSVC]\n",
      "    fold  0:  [0.57722645]\n",
      "    fold  1:  [0.37409829]\n",
      "    fold  2:  [0.55524843]\n",
      "    fold  3:  [0.68797195]\n",
      "    ----\n",
      "    MEAN:     [0.54863628] + [0.11262666]\n",
      "    FULL:     [0.54863394]\n",
      "\n",
      "model  3:     [RandomForestClassifier]\n",
      "    fold  0:  [0.91923414]\n",
      "    fold  1:  [0.92038023]\n",
      "    fold  2:  [0.92334659]\n",
      "    fold  3:  [0.92307174]\n",
      "    ----\n",
      "    MEAN:     [0.92150818] + [0.00175128]\n",
      "    FULL:     [0.92150815]\n",
      "\n",
      "model  4:     [DecisionTreeClassifier]\n",
      "    fold  0:  [0.89617744]\n",
      "    fold  1:  [0.89462685]\n",
      "    fold  2:  [0.89334592]\n",
      "    fold  3:  [0.89475458]\n",
      "    ----\n",
      "    MEAN:     [0.89472620] + [0.00100274]\n",
      "    FULL:     [0.89472620]\n",
      "\n"
     ]
    }
   ],
   "source": [
    "print(\"___________________________________________________________________________________________\\nEnsemble Methods Predictions using GradientBoosting, RandomForest and Decision Tree Classifier\\n\")\n",
    "\n",
    "models = [ KNeighborsClassifier(), MLPClassifier(), LinearSVC(), RandomForestClassifier(), DecisionTreeClassifier() ]\n",
    "      \n",
    "S_Train, S_Test = stacking(models,                   \n",
    "                           X_res, y_res, X_TEST1,   \n",
    "                           regression=False, \n",
    "     \n",
    "                           mode='oof_pred_bag', \n",
    "       \n",
    "                           needs_proba=False,\n",
    "         \n",
    "                           save_dir=None, \n",
    "            \n",
    "                           metric=accuracy_score, \n",
    "    \n",
    "                           n_folds=4, \n",
    "                 \n",
    "                           stratified=True,\n",
    "            \n",
    "                           shuffle=True,  \n",
    "            \n",
    "                           random_state=0,    \n",
    "         \n",
    "                           verbose=2)\n"
   ]
  },
  {
   "cell_type": "code",
   "execution_count": 10,
   "metadata": {},
   "outputs": [],
   "source": [
    "#Construct Random Forest Model\n",
    "\n",
    "model = RandomForestClassifier()\n",
    "model = model.fit(S_Train, y_res)\n",
    "y_pred = model.predict(S_Test)\n"
   ]
  },
  {
   "cell_type": "code",
   "execution_count": 21,
   "metadata": {
    "colab": {
     "base_uri": "https://localhost:8080/"
    },
    "id": "tTVeE_7ZktRo",
    "outputId": "7b30284b-7d7c-455f-dfa0-96d022841445"
   },
   "outputs": [
    {
     "name": "stdout",
     "output_type": "stream",
     "text": [
      "{'n_estimators': 50, 'min_samples_leaf': 190, 'max_features': 'sqrt', 'max_depth': 14}\n"
     ]
    }
   ],
   "source": [
    "#Hyperparameter tuning for random forest classifier\n",
    "rfc= RandomForestClassifier()\n",
    "rand_parameters={'min_samples_leaf' : range(20,200,10),'max_depth': \n",
    "            range(5,20,3),'max_features':['auto', 'sqrt'],'n_estimators':[30,40,50,60]}\n",
    "rfc_random = RandomizedSearchCV(rfc,rand_parameters,n_iter=25,cv=5)\n",
    "rfc_random.fit(S_Train, y_res)\n",
    "random_parm_rfc=rfc_random.best_params_\n",
    "print(random_parm_rfc)\n",
    "\n",
    "#Construct Random Forest with best parameters\n",
    "rfc= RandomForestClassifier(**random_parm_rfc)\n",
    "rfc.fit(S_Train,y_res)\n",
    "rfc_predict = rfc.predict(S_Test)\n"
   ]
  },
  {
   "cell_type": "code",
   "execution_count": 22,
   "metadata": {},
   "outputs": [],
   "source": [
    "# CSV File for kaggle score \n",
    "X1 = pd.DataFrame({'QuoteNumber':X_TEST1.QuoteNumber,'QuoteConversionFlag':rfc_predict})\n",
    "X1.to_csv('RFC_SMOTE_1.csv')"
   ]
  }
 ],
 "metadata": {
  "accelerator": "GPU",
  "colab": {
   "collapsed_sections": [],
   "name": "Stacking_SMOTE_InsuranceFraud.ipynb",
   "provenance": []
  },
  "kernelspec": {
   "display_name": "Python 3",
   "language": "python",
   "name": "python3"
  },
  "language_info": {
   "codemirror_mode": {
    "name": "ipython",
    "version": 3
   },
   "file_extension": ".py",
   "mimetype": "text/x-python",
   "name": "python",
   "nbconvert_exporter": "python",
   "pygments_lexer": "ipython3",
   "version": "3.7.6"
  }
 },
 "nbformat": 4,
 "nbformat_minor": 4
}
